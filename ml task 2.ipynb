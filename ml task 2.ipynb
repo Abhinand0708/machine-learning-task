{
 "cells": [
  {
   "cell_type": "code",
   "execution_count": 1,
   "id": "f7fa172c",
   "metadata": {
    "scrolled": true
   },
   "outputs": [
    {
     "name": "stdout",
     "output_type": "stream",
     "text": [
      "Defaulting to user installation because normal site-packages is not writeable\n",
      "Requirement already satisfied: statsmodels in c:\\programdata\\anaconda3\\lib\\site-packages (0.14.0)\n",
      "Requirement already satisfied: numpy>=1.18 in c:\\programdata\\anaconda3\\lib\\site-packages (from statsmodels) (1.24.3)\n",
      "Requirement already satisfied: scipy!=1.9.2,>=1.4 in c:\\programdata\\anaconda3\\lib\\site-packages (from statsmodels) (1.11.1)\n",
      "Requirement already satisfied: pandas>=1.0 in c:\\programdata\\anaconda3\\lib\\site-packages (from statsmodels) (2.0.3)\n",
      "Requirement already satisfied: patsy>=0.5.2 in c:\\programdata\\anaconda3\\lib\\site-packages (from statsmodels) (0.5.3)\n",
      "Requirement already satisfied: packaging>=21.3 in c:\\programdata\\anaconda3\\lib\\site-packages (from statsmodels) (23.1)\n",
      "Requirement already satisfied: python-dateutil>=2.8.2 in c:\\programdata\\anaconda3\\lib\\site-packages (from pandas>=1.0->statsmodels) (2.8.2)\n",
      "Requirement already satisfied: pytz>=2020.1 in c:\\programdata\\anaconda3\\lib\\site-packages (from pandas>=1.0->statsmodels) (2023.3.post1)\n",
      "Requirement already satisfied: tzdata>=2022.1 in c:\\programdata\\anaconda3\\lib\\site-packages (from pandas>=1.0->statsmodels) (2023.3)\n",
      "Requirement already satisfied: six in c:\\programdata\\anaconda3\\lib\\site-packages (from patsy>=0.5.2->statsmodels) (1.16.0)\n",
      "Note: you may need to restart the kernel to use updated packages.\n"
     ]
    }
   ],
   "source": [
    "pip install statsmodels"
   ]
  },
  {
   "cell_type": "code",
   "execution_count": 2,
   "id": "03297a55",
   "metadata": {},
   "outputs": [
    {
     "name": "stdout",
     "output_type": "stream",
     "text": [
      "Defaulting to user installation because normal site-packages is not writeableNote: you may need to restart the kernel to use updated packages.\n",
      "\n",
      "Requirement already satisfied: scipy in c:\\programdata\\anaconda3\\lib\\site-packages (1.11.1)\n",
      "Requirement already satisfied: numpy<1.28.0,>=1.21.6 in c:\\programdata\\anaconda3\\lib\\site-packages (from scipy) (1.24.3)\n"
     ]
    }
   ],
   "source": [
    "pip install scipy"
   ]
  },
  {
   "cell_type": "code",
   "execution_count": 3,
   "id": "d696b372",
   "metadata": {},
   "outputs": [],
   "source": [
    "import numpy as np"
   ]
  },
  {
   "cell_type": "markdown",
   "id": "7b97c540",
   "metadata": {},
   "source": [
    "## TASKS"
   ]
  },
  {
   "cell_type": "markdown",
   "id": "25a67e1c",
   "metadata": {},
   "source": [
    "## Q1.Suppose a child psychologist claims that the average time working mothers spend talking to their children is at least 11 minutes per day. You conduct a random sample of 1000 working mothers and find they spend an average of 11.5 minutes per day talking with their children. Assume prior research suggests the population standard deviation is 2.3 minutes.Conduct a test with a level of significance of alpha = 0.05\n",
    "### Null Hypothesis\n",
    "Ho = μ ≤ 11 minutes\n",
    "Alternative Hypothesis\n",
    "Ha = μ > 11 minutes\n",
    "x̄ = 11.5 minutes\n",
    "n = 1000\n",
    "σ = 2.3 minutes\n",
    "α = 0.05\n",
    "Statistical Test\n",
    "Since we have a sample of 1000, which is greater than 30, and we have a sample mean, standard deviation, and want to compare the sample mean to a population value ,so we acn use Z-test.\n",
    "\n",
    "rejection criteria is z_statistics>critical value, fail to accept Ho\n",
    "\n",
    "Formula Z=(x̄ - μ)/(σ/√n)\n",
    "\n",
    "Where: x̄ = sample mean (11.5 minutes), μ = population mean (11 minutes), σ = population standard deviation (2.3 minutes), n = sample size (1000)."
   ]
  },
  {
   "cell_type": "code",
   "execution_count": 4,
   "id": "5ccf243d",
   "metadata": {},
   "outputs": [],
   "source": [
    "import math"
   ]
  },
  {
   "cell_type": "code",
   "execution_count": 5,
   "id": "8265a76d",
   "metadata": {},
   "outputs": [
    {
     "data": {
      "text/plain": [
       "6.874516652539955"
      ]
     },
     "execution_count": 5,
     "metadata": {},
     "output_type": "execute_result"
    }
   ],
   "source": [
    "Z = (11.5-11)/(2.3/math.sqrt(1000))\n",
    "Z"
   ]
  },
  {
   "cell_type": "markdown",
   "id": "d1b2583a",
   "metadata": {},
   "source": [
    "### Determine Critical Value or P-Value:\n",
    "Since we're conducting a one-tailed test (since we're testing if the average time is more than 11 minutes), we will look up the crirical value for a z-score corresponding to an alpha level of 0.05 from z-distribution table.\n",
    "\n",
    "corresponds to an alpha level of 0.05.\n",
    "Critical value=1.645"
   ]
  },
  {
   "cell_type": "markdown",
   "id": "58da453d",
   "metadata": {},
   "source": [
    "## Conslusion:\n",
    "Since our calculated z-score (6.88) is much greater than the critical value (1.645), we reject the null hypothesis. We have sufficient evidence to conclude that the average time working mothers spend talking to their children is indeed more than 11 minutes per day ."
   ]
  },
  {
   "cell_type": "markdown",
   "id": "9536b1d4",
   "metadata": {},
   "source": [
    "## Q2. A coffee shop claims that their average wait time for customers is less than 5 minutes. To test this claim, a sample of 40 customers is taken, and their wait times are recorded. The sample mean wait time is found to be 4.6 minutes with a standard deviation of 0.8 minutes. Perform a hypothesis test at a significance level of 0.05 and determine whether there is enough evidence to support the coffee shop's claim."
   ]
  },
  {
   "cell_type": "markdown",
   "id": "577a85e8",
   "metadata": {},
   "source": [
    "### Null Hypothesis\n",
    "#### Ho = μ ≥ 5 minutes\n",
    "### Alternative Hypothesis\n",
    "#### Ha = μ < 5 minutes\n",
    "#### Sample mean(x̄) = 4.6 minutes\n",
    "#### Sample size(n) = 40\n",
    "#### Sample Standard deviation(σ) = 0.8 minutes\n",
    "#### Population mean(μ) = 5 minutes\n",
    "#### Significance level(α) = 0.05(5%)\n",
    "#### Degree of freedom(n-1) = 39"
   ]
  },
  {
   "cell_type": "markdown",
   "id": "8c0c967c",
   "metadata": {},
   "source": [
    "### Statistical Test:\n",
    "#### Here the population std is unknown, so we can use t-test for this.\n",
    "##### If the sample size is small (typically <30) and the population standard deviation is unknown, the t-test is appropriate. However, for larger sample sizes (usually greater than 30), the t-test can also be used even if the population standard deviation is unknown due to the Central Limit Theorem, which states that the distribution of sample means approaches a normal distribution as the sample size increases.\n",
    "t_test_statistic=(x̄ - μ) / (σ / √n)"
   ]
  },
  {
   "cell_type": "code",
   "execution_count": 6,
   "id": "7d475303",
   "metadata": {},
   "outputs": [
    {
     "name": "stdout",
     "output_type": "stream",
     "text": [
      "t_statistic: -3.162277660168382\n"
     ]
    }
   ],
   "source": [
    "t_test_statistic=(4.6 - 5) / (0.8 / np.sqrt(40))\n",
    "print('t_statistic:',t_test_statistic)"
   ]
  },
  {
   "cell_type": "markdown",
   "id": "8d8b6ce1",
   "metadata": {},
   "source": [
    "#### The function t.ppf(alpha, df) calculates a critical value from the t-distribution based on the provided significance level (alpha) and degrees of freedom (df).\n",
    "#### The term \"percent point function\" (ppf) means it gives you a value from the distribution such that if you randomly select a value from the distribution, there's a certain probability it will be less than or equal to that value.\n",
    "#### In simpler terms, it helps to find a specific value in the t-distribution where a certain percentage of the distribution falls below that value."
   ]
  },
  {
   "cell_type": "code",
   "execution_count": 7,
   "id": "62946447",
   "metadata": {},
   "outputs": [
    {
     "name": "stdout",
     "output_type": "stream",
     "text": [
      "Critical value: -1.6848751194974\n"
     ]
    }
   ],
   "source": [
    "from scipy.stats import t\n",
    "critical_value = t.ppf(0.05, 39)\n",
    "\n",
    "print(\"Critical value:\", critical_value)"
   ]
  },
  {
   "cell_type": "markdown",
   "id": "572284e0",
   "metadata": {},
   "source": [
    "Since our calculated t-value (-3.16) is less than the critical t-value (-1.685), we fail to accept the null hypothesis.\n",
    "There is enough evidence to support the claim that the average wait time for customers is less than 5 minutes at a significance level of 0.05."
   ]
  },
  {
   "cell_type": "code",
   "execution_count": null,
   "id": "c45a52d4",
   "metadata": {},
   "outputs": [],
   "source": []
  }
 ],
 "metadata": {
  "kernelspec": {
   "display_name": "Python 3 (ipykernel)",
   "language": "python",
   "name": "python3"
  },
  "language_info": {
   "codemirror_mode": {
    "name": "ipython",
    "version": 3
   },
   "file_extension": ".py",
   "mimetype": "text/x-python",
   "name": "python",
   "nbconvert_exporter": "python",
   "pygments_lexer": "ipython3",
   "version": "3.11.5"
  }
 },
 "nbformat": 4,
 "nbformat_minor": 5
}
